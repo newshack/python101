{
 "cells": [
  {
   "cell_type": "markdown",
   "metadata": {},
   "source": [
    "# Intro to Python\n",
    "\n",
    "### Why use Python?\n",
    "\n",
    "* Automate and document routine work\n",
    "* Analyze data in a replicable, documented way\n",
    "* Build cool web stuff\n",
    "* Lots of other journos use it\n",
    "\n",
    "Open Terminal or iTerm. \n",
    "\n",
    "Type: python \n",
    "\n",
    "Type: 2+3 \n",
    "\n",
    "Type: import this \n",
    "\n",
    "Type: CTRL+d\n",
    "\n",
    "OK, you could do stuff in there all day. \n",
    "\n",
    "Or you could put code in a text file with the .py extension and run it from the command line (python filename.py). \n",
    "\n",
    "But we're going to use Jupyter notebook.\n",
    "\n",
    "### Why use Jupyter notebook?\n",
    "\n",
    "* Test your code line by line\n",
    "* Rewrite it immediately when you err (and you will err)\n",
    "* You can document/explain more extensively using markdown (what you're reading here)\n",
    "* Reuse, reuse, reuse\n",
    "\n",
    "So, here we go. Printing can be a good way to see if your code works, at least that's what i often use it for."
   ]
  },
  {
   "cell_type": "code",
   "execution_count": 1,
   "metadata": {},
   "outputs": [
    {
     "ename": "SyntaxError",
     "evalue": "Missing parentheses in call to 'print' (<ipython-input-1-1604f94da412>, line 1)",
     "output_type": "error",
     "traceback": [
      "\u001b[0;36m  File \u001b[0;32m\"<ipython-input-1-1604f94da412>\"\u001b[0;36m, line \u001b[0;32m1\u001b[0m\n\u001b[0;31m    print something\u001b[0m\n\u001b[0m                  ^\u001b[0m\n\u001b[0;31mSyntaxError\u001b[0m\u001b[0;31m:\u001b[0m Missing parentheses in call to 'print'\n"
     ]
    }
   ],
   "source": [
    "print something"
   ]
  },
  {
   "cell_type": "markdown",
   "metadata": {},
   "source": [
    "### To err is expected.\n",
    "\n",
    "Oops! That didn't work. \n",
    "\n",
    "But this is the first of many errors you (and especially i!) will make in Python. In part, because we are typing (check the number of times i type pring instead of print). Also, because it's complicated.\n",
    "\n",
    "So a few quick error tips:\n",
    "* Proofread your code like a copy editor. Errors often result from misspellings, misplaced punctuation, etc.\n",
    "* Google the error message + Python\n",
    "* Use [stackoverflow.com](http://stackoverflow.com) to search the error message or ask questions.\n",
    "\n",
    "So let's try using some quotes and parentheses around that word instead."
   ]
  },
  {
   "cell_type": "code",
   "execution_count": 3,
   "metadata": {},
   "outputs": [
    {
     "name": "stdout",
     "output_type": "stream",
     "text": [
      "something\n"
     ]
    }
   ],
   "source": [
    "print('something')"
   ]
  },
  {
   "cell_type": "markdown",
   "metadata": {},
   "source": [
    "Let's print an equation."
   ]
  },
  {
   "cell_type": "code",
   "execution_count": 5,
   "metadata": {},
   "outputs": [
    {
     "name": "stdout",
     "output_type": "stream",
     "text": [
      "5\n"
     ]
    }
   ],
   "source": [
    "print(2+3)"
   ]
  },
  {
   "cell_type": "markdown",
   "metadata": {},
   "source": [
    "What's the difference between these things? They're different data types. \n",
    "\n",
    "Note that string content is surrounded by quotes, but numbers don't need them. \n",
    "\n",
    "But don't forget that there are sometimes that numbers should be strings, such as zip codes, which you will rarely commit math with.\n",
    "\n",
    "### Variables\n",
    "\n",
    "Often, we create variables to contain strings, integers or floats. So let's do that.\n",
    "\n",
    "Let's make a couple of variables with strings."
   ]
  },
  {
   "cell_type": "code",
   "execution_count": 6,
   "metadata": {
    "collapsed": true
   },
   "outputs": [],
   "source": [
    "my_string = 'Python is fun!'"
   ]
  },
  {
   "cell_type": "code",
   "execution_count": 7,
   "metadata": {
    "collapsed": true
   },
   "outputs": [],
   "source": [
    "string_two = \"it\\'s also challenging.\""
   ]
  },
  {
   "cell_type": "code",
   "execution_count": 8,
   "metadata": {},
   "outputs": [
    {
     "data": {
      "text/plain": [
       "'Python is fun!'"
      ]
     },
     "execution_count": 8,
     "metadata": {},
     "output_type": "execute_result"
    }
   ],
   "source": [
    "my_string"
   ]
  },
  {
   "cell_type": "code",
   "execution_count": 9,
   "metadata": {},
   "outputs": [
    {
     "data": {
      "text/plain": [
       "\"it's also challenging.\""
      ]
     },
     "execution_count": 9,
     "metadata": {},
     "output_type": "execute_result"
    }
   ],
   "source": [
    "string_two"
   ]
  },
  {
   "cell_type": "markdown",
   "metadata": {},
   "source": [
    "Note that it doesn't really matter whether you use single or double quotes. If you have questions about this or other Python style, consult [PEP 8](https://www.python.org/dev/peps/pep-0008/ \"PEP 8\"). It's the AP Style Guide for Python.\n",
    "\n",
    "Now let's create some integer and float variables."
   ]
  },
  {
   "cell_type": "code",
   "execution_count": 10,
   "metadata": {
    "collapsed": true
   },
   "outputs": [],
   "source": [
    "my_int = 15"
   ]
  },
  {
   "cell_type": "code",
   "execution_count": 11,
   "metadata": {
    "collapsed": true
   },
   "outputs": [],
   "source": [
    "my_float = 4.5"
   ]
  },
  {
   "cell_type": "markdown",
   "metadata": {},
   "source": [
    "How about a true/false, aka a boolean?"
   ]
  },
  {
   "cell_type": "code",
   "execution_count": 12,
   "metadata": {
    "collapsed": true
   },
   "outputs": [],
   "source": [
    "my_bool = True"
   ]
  },
  {
   "cell_type": "markdown",
   "metadata": {},
   "source": [
    "Note the capitalization of True and the lack of quotes; same would go for False when you're using booleans."
   ]
  },
  {
   "cell_type": "markdown",
   "metadata": {},
   "source": [
    "Now let's print some of that stuff."
   ]
  },
  {
   "cell_type": "code",
   "execution_count": 13,
   "metadata": {},
   "outputs": [
    {
     "name": "stdout",
     "output_type": "stream",
     "text": [
      "Python is fun!\n"
     ]
    }
   ],
   "source": [
    "print(my_string)"
   ]
  },
  {
   "cell_type": "code",
   "execution_count": 15,
   "metadata": {},
   "outputs": [
    {
     "name": "stdout",
     "output_type": "stream",
     "text": [
      "Python is fun!it's also challenging.\n"
     ]
    }
   ],
   "source": [
    "print(my_string + string_two)"
   ]
  },
  {
   "cell_type": "markdown",
   "metadata": {},
   "source": [
    "Note that we're not using quotation marks around the variable name.\n",
    "\n",
    "But that adding two strings is a mess, so let's try adding some whitespace and a comma between the variables."
   ]
  },
  {
   "cell_type": "code",
   "execution_count": 16,
   "metadata": {},
   "outputs": [
    {
     "name": "stdout",
     "output_type": "stream",
     "text": [
      "Python is fun! it's also challenging.\n"
     ]
    }
   ],
   "source": [
    "print(my_string + ' ' + string_two)"
   ]
  },
  {
   "cell_type": "markdown",
   "metadata": {},
   "source": [
    "Let's try some math."
   ]
  },
  {
   "cell_type": "code",
   "execution_count": 17,
   "metadata": {},
   "outputs": [
    {
     "name": "stdout",
     "output_type": "stream",
     "text": [
      "3.3333333333333335\n"
     ]
    }
   ],
   "source": [
    "print(my_int/my_float)"
   ]
  },
  {
   "cell_type": "markdown",
   "metadata": {},
   "source": [
    "Try some math with your integer and string variable."
   ]
  },
  {
   "cell_type": "code",
   "execution_count": 18,
   "metadata": {},
   "outputs": [
    {
     "ename": "TypeError",
     "evalue": "unsupported operand type(s) for /: 'int' and 'str'",
     "output_type": "error",
     "traceback": [
      "\u001b[0;31m---------------------------------------------------------------------------\u001b[0m",
      "\u001b[0;31mTypeError\u001b[0m                                 Traceback (most recent call last)",
      "\u001b[0;32m<ipython-input-18-d0f4ccaf835a>\u001b[0m in \u001b[0;36m<module>\u001b[0;34m()\u001b[0m\n\u001b[0;32m----> 1\u001b[0;31m \u001b[0mprint\u001b[0m\u001b[0;34m(\u001b[0m\u001b[0mmy_int\u001b[0m\u001b[0;34m/\u001b[0m\u001b[0mmy_string\u001b[0m\u001b[0;34m)\u001b[0m\u001b[0;34m\u001b[0m\u001b[0m\n\u001b[0m",
      "\u001b[0;31mTypeError\u001b[0m: unsupported operand type(s) for /: 'int' and 'str'"
     ]
    }
   ],
   "source": [
    "print(my_int/my_string)"
   ]
  },
  {
   "cell_type": "markdown",
   "metadata": {},
   "source": [
    "Ha ha, math on different types of variables doesn't work! What do we mean by type? Let's review by printing."
   ]
  },
  {
   "cell_type": "code",
   "execution_count": 19,
   "metadata": {},
   "outputs": [
    {
     "name": "stdout",
     "output_type": "stream",
     "text": [
      "<class 'str'>\n",
      "<class 'int'>\n",
      "<class 'float'>\n",
      "<class 'bool'>\n"
     ]
    }
   ],
   "source": [
    "print(type(my_string))\n",
    "print(type(my_int))\n",
    "print(type(my_float))\n",
    "print(type(my_bool))"
   ]
  },
  {
   "cell_type": "markdown",
   "metadata": {},
   "source": [
    "### More number stuff\n",
    "\n",
    "So let's try some more number stuff, but let's begin by importing a file. \n",
    "\n",
    "Take a look at var.py first and especially note the notes. Using the hash/pound sign creates notes that allow you to comment on what your code does. This is pretty important to remind yourself (or others) what's happening.\n",
    "\n",
    "Let's import that var.py file."
   ]
  },
  {
   "cell_type": "code",
   "execution_count": 21,
   "metadata": {},
   "outputs": [],
   "source": [
    "from var import *"
   ]
  },
  {
   "cell_type": "markdown",
   "metadata": {},
   "source": [
    "Then print the contents of the variable some_num"
   ]
  },
  {
   "cell_type": "code",
   "execution_count": 22,
   "metadata": {},
   "outputs": [
    {
     "name": "stdout",
     "output_type": "stream",
     "text": [
      "21\n"
     ]
    }
   ],
   "source": [
    "print(some_num)"
   ]
  },
  {
   "cell_type": "markdown",
   "metadata": {},
   "source": [
    "Let's create a new variable, unlucky_num, with our exisiting variable, and print it."
   ]
  },
  {
   "cell_type": "code",
   "execution_count": 25,
   "metadata": {},
   "outputs": [
    {
     "name": "stdout",
     "output_type": "stream",
     "text": [
      "13\n"
     ]
    }
   ],
   "source": [
    "unlucky_num = some_num - 8\n",
    "print(unlucky_num)"
   ]
  },
  {
   "cell_type": "markdown",
   "metadata": {},
   "source": [
    "Can we change the value of of our variable some_num? Let's subtract 14 from it and print it again."
   ]
  },
  {
   "cell_type": "code",
   "execution_count": 26,
   "metadata": {},
   "outputs": [
    {
     "name": "stdout",
     "output_type": "stream",
     "text": [
      "7\n"
     ]
    }
   ],
   "source": [
    "some_num = some_num-14\n",
    "print(some_num)"
   ]
  },
  {
   "cell_type": "markdown",
   "metadata": {},
   "source": [
    "What happens to unlucky_num?\n"
   ]
  },
  {
   "cell_type": "code",
   "execution_count": 27,
   "metadata": {},
   "outputs": [
    {
     "name": "stdout",
     "output_type": "stream",
     "text": [
      "13\n"
     ]
    }
   ],
   "source": [
    "print(unlucky_num)"
   ]
  },
  {
   "cell_type": "markdown",
   "metadata": {},
   "source": [
    "Are our two integer variables equal?"
   ]
  },
  {
   "cell_type": "code",
   "execution_count": 28,
   "metadata": {},
   "outputs": [
    {
     "name": "stdout",
     "output_type": "stream",
     "text": [
      "False\n"
     ]
    }
   ],
   "source": [
    "print(unlucky_num == some_num)"
   ]
  },
  {
   "cell_type": "markdown",
   "metadata": {},
   "source": [
    "There's a boolean response. Note the == sign. That's an important Python feature. But is one number larger than the other?"
   ]
  },
  {
   "cell_type": "code",
   "execution_count": 29,
   "metadata": {},
   "outputs": [
    {
     "name": "stdout",
     "output_type": "stream",
     "text": [
      "True\n"
     ]
    }
   ],
   "source": [
    "print(unlucky_num > some_num)"
   ]
  },
  {
   "cell_type": "markdown",
   "metadata": {},
   "source": [
    "### More string stuff\n",
    "\n",
    "Print the variable saying."
   ]
  },
  {
   "cell_type": "code",
   "execution_count": 30,
   "metadata": {},
   "outputs": [
    {
     "name": "stdout",
     "output_type": "stream",
     "text": [
      "i'm just saying there are many things to learn about Python\n"
     ]
    }
   ],
   "source": [
    "print(saying)"
   ]
  },
  {
   "cell_type": "markdown",
   "metadata": {},
   "source": [
    "How long is that sentence? Let's use the Python len command and find out!"
   ]
  },
  {
   "cell_type": "code",
   "execution_count": 31,
   "metadata": {},
   "outputs": [
    {
     "name": "stdout",
     "output_type": "stream",
     "text": [
      "59\n"
     ]
    }
   ],
   "source": [
    "print(len(saying))"
   ]
  },
  {
   "cell_type": "markdown",
   "metadata": {},
   "source": [
    "How long is some_num?"
   ]
  },
  {
   "cell_type": "code",
   "execution_count": 32,
   "metadata": {},
   "outputs": [
    {
     "ename": "TypeError",
     "evalue": "object of type 'int' has no len()",
     "output_type": "error",
     "traceback": [
      "\u001b[0;31m---------------------------------------------------------------------------\u001b[0m",
      "\u001b[0;31mTypeError\u001b[0m                                 Traceback (most recent call last)",
      "\u001b[0;32m<ipython-input-32-e67df9c52392>\u001b[0m in \u001b[0;36m<module>\u001b[0;34m()\u001b[0m\n\u001b[0;32m----> 1\u001b[0;31m \u001b[0mprint\u001b[0m\u001b[0;34m(\u001b[0m\u001b[0mlen\u001b[0m\u001b[0;34m(\u001b[0m\u001b[0msome_num\u001b[0m\u001b[0;34m)\u001b[0m\u001b[0;34m)\u001b[0m\u001b[0;34m\u001b[0m\u001b[0m\n\u001b[0m",
      "\u001b[0;31mTypeError\u001b[0m: object of type 'int' has no len()"
     ]
    }
   ],
   "source": [
    "print(len(some_num))"
   ]
  },
  {
   "cell_type": "markdown",
   "metadata": {},
   "source": [
    "Check out that error message. \n",
    "\n",
    "Now let's print the saying in all caps."
   ]
  },
  {
   "cell_type": "code",
   "execution_count": 33,
   "metadata": {},
   "outputs": [
    {
     "name": "stdout",
     "output_type": "stream",
     "text": [
      "I'M JUST SAYING THERE ARE MANY THINGS TO LEARN ABOUT PYTHON\n"
     ]
    }
   ],
   "source": [
    "print(saying.upper())"
   ]
  },
  {
   "cell_type": "markdown",
   "metadata": {},
   "source": [
    "Let's take a look at the ugly_string variable by printing it, and getting its length."
   ]
  },
  {
   "cell_type": "code",
   "execution_count": 34,
   "metadata": {},
   "outputs": [
    {
     "name": "stdout",
     "output_type": "stream",
     "text": [
      "     IRE    is      lots of     fun    \n",
      "39\n"
     ]
    }
   ],
   "source": [
    "print(ugly_string)\n",
    "print(len(ugly_string))"
   ]
  },
  {
   "cell_type": "markdown",
   "metadata": {
    "collapsed": true
   },
   "source": [
    "You can split that apart."
   ]
  },
  {
   "cell_type": "code",
   "execution_count": 35,
   "metadata": {},
   "outputs": [
    {
     "data": {
      "text/plain": [
       "['IRE', 'is', 'lots', 'of', 'fun']"
      ]
     },
     "execution_count": 35,
     "metadata": {},
     "output_type": "execute_result"
    }
   ],
   "source": [
    "ugly_string.split()"
   ]
  },
  {
   "cell_type": "markdown",
   "metadata": {},
   "source": [
    "That breaks the string apart based on spaces. And it's returned as a list. More about that in a bit.\n",
    "\n",
    "Let's split the ugly_string on the word is – a chance to use those parentheses after split."
   ]
  },
  {
   "cell_type": "code",
   "execution_count": 36,
   "metadata": {},
   "outputs": [
    {
     "data": {
      "text/plain": [
       "['     IRE    ', '      lots of     fun    ']"
      ]
     },
     "execution_count": 36,
     "metadata": {},
     "output_type": "execute_result"
    }
   ],
   "source": [
    "ugly_string.split('is')"
   ]
  },
  {
   "cell_type": "markdown",
   "metadata": {
    "collapsed": true
   },
   "source": [
    "Remember how we added to strings together inserting a comma and white space with ', '? Here's a different way of doing that to fix the ugly_string using ' ', a split and join."
   ]
  },
  {
   "cell_type": "code",
   "execution_count": 38,
   "metadata": {},
   "outputs": [
    {
     "name": "stdout",
     "output_type": "stream",
     "text": [
      "IRE is lots of fun\n"
     ]
    }
   ],
   "source": [
    "pretty_string = ' '.join(ugly_string.split())\n",
    "print(pretty_string)"
   ]
  },
  {
   "cell_type": "markdown",
   "metadata": {},
   "source": [
    "Remember we said rarely would you do math with strings? Well, we have added strings together. And we might multiply strings sometimes, too."
   ]
  },
  {
   "cell_type": "code",
   "execution_count": 39,
   "metadata": {},
   "outputs": [
    {
     "name": "stdout",
     "output_type": "stream",
     "text": [
      "cha cha cha \n"
     ]
    }
   ],
   "source": [
    "print('cha ' * 3)"
   ]
  },
  {
   "cell_type": "markdown",
   "metadata": {},
   "source": [
    "### Let's list\n",
    "\n",
    "Think of a list as a variable that's set of strings, integers, floats, booleans or all of that surrounded by brackets and separated by commas."
   ]
  },
  {
   "cell_type": "code",
   "execution_count": 41,
   "metadata": {},
   "outputs": [
    {
     "data": {
      "text/plain": [
       "['Jacksonville', 'Montclair', 'Phoenix', 'Minneapolis']"
      ]
     },
     "execution_count": 41,
     "metadata": {},
     "output_type": "execute_result"
    }
   ],
   "source": [
    "my_list = ['Jacksonville', 'Montclair', 'Phoenix', 'Minneapolis']\n",
    "my_list"
   ]
  },
  {
   "cell_type": "code",
   "execution_count": 43,
   "metadata": {},
   "outputs": [
    {
     "name": "stdout",
     "output_type": "stream",
     "text": [
      "Montclair\n"
     ]
    }
   ],
   "source": [
    "print(my_list[1])"
   ]
  },
  {
   "cell_type": "markdown",
   "metadata": {},
   "source": [
    "Note that calling item 1 in the list gets the second item. That's because Python counting, or indexing, begins with 0.\n",
    "\n",
    "Let's add an item to the list using append."
   ]
  },
  {
   "cell_type": "code",
   "execution_count": 45,
   "metadata": {},
   "outputs": [
    {
     "name": "stdout",
     "output_type": "stream",
     "text": [
      "['Jacksonville', 'Montclair', 'Phoenix', 'Minneapolis', 'Hot Springs', 'Hot Springs']\n"
     ]
    }
   ],
   "source": [
    "my_list.append('Hot Springs')\n",
    "print(my_list)"
   ]
  },
  {
   "cell_type": "markdown",
   "metadata": {},
   "source": [
    "### Dictionaries\n",
    "\n",
    "What differentiates them from lists? Curly brackets, for one. And sets of information tied to key values, for another. Let's make an example."
   ]
  },
  {
   "cell_type": "code",
   "execution_count": 46,
   "metadata": {},
   "outputs": [
    {
     "name": "stdout",
     "output_type": "stream",
     "text": [
      "{'workshop': 'python', 'conference': 'IRE', 'location': 'Phoenix', 'day': 'Friday'}\n"
     ]
    }
   ],
   "source": [
    "my_dict = {'workshop': 'python', 'conference': 'IRE', 'location': 'Phoenix', 'day': 'Friday'}\n",
    "print(my_dict)"
   ]
  },
  {
   "cell_type": "markdown",
   "metadata": {},
   "source": [
    "Print the value for conference. And note the bracket differences."
   ]
  },
  {
   "cell_type": "code",
   "execution_count": 48,
   "metadata": {},
   "outputs": [
    {
     "name": "stdout",
     "output_type": "stream",
     "text": [
      "IRE\n"
     ]
    }
   ],
   "source": [
    "print(my_dict['conference'])"
   ]
  },
  {
   "cell_type": "markdown",
   "metadata": {},
   "source": [
    "Remember the key value thing? Let's print them."
   ]
  },
  {
   "cell_type": "code",
   "execution_count": 50,
   "metadata": {},
   "outputs": [
    {
     "name": "stdout",
     "output_type": "stream",
     "text": [
      "dict_keys(['workshop', 'conference', 'location', 'day'])\n",
      "dict_values(['python', 'IRE', 'Phoenix', 'Friday'])\n"
     ]
    }
   ],
   "source": [
    "print(my_dict.keys())\n",
    "print(my_dict.values())"
   ]
  },
  {
   "cell_type": "markdown",
   "metadata": {},
   "source": [
    "Is there a month in my_dict?"
   ]
  },
  {
   "cell_type": "code",
   "execution_count": 51,
   "metadata": {},
   "outputs": [
    {
     "name": "stdout",
     "output_type": "stream",
     "text": [
      "False\n"
     ]
    }
   ],
   "source": [
    "print('month' in my_dict)"
   ]
  },
  {
   "cell_type": "markdown",
   "metadata": {
    "collapsed": true
   },
   "source": [
    "### Lists and dicts\n",
    "\n",
    "Remember our var.py file? Let's print our list of months."
   ]
  },
  {
   "cell_type": "code",
   "execution_count": 52,
   "metadata": {},
   "outputs": [
    {
     "name": "stdout",
     "output_type": "stream",
     "text": [
      "['Jan', 'Feb', 'Mar', 'Apr', 'May', 'Jun', 'Jul', 'Aug', 'Sep', 'Oct', 'Nov']\n"
     ]
    }
   ],
   "source": [
    "print(months)"
   ]
  },
  {
   "cell_type": "markdown",
   "metadata": {},
   "source": [
    "Wait, how long is that list?"
   ]
  },
  {
   "cell_type": "code",
   "execution_count": 58,
   "metadata": {},
   "outputs": [
    {
     "name": "stdout",
     "output_type": "stream",
     "text": [
      "14\n"
     ]
    }
   ],
   "source": [
    "print(len(months))"
   ]
  },
  {
   "cell_type": "markdown",
   "metadata": {},
   "source": [
    "We need to add a month!"
   ]
  },
  {
   "cell_type": "code",
   "execution_count": 60,
   "metadata": {},
   "outputs": [
    {
     "name": "stdout",
     "output_type": "stream",
     "text": [
      "['Jan', 'Feb', 'Mar', 'Apr', 'May', 'Jun', 'Jul', 'Aug', 'Sep', 'Oct', 'Nov', 'Dec']\n"
     ]
    }
   ],
   "source": [
    "months.append('Dec')\n",
    "print(months)\n"
   ]
  },
  {
   "cell_type": "markdown",
   "metadata": {},
   "source": [
    "Print the first and last item of the the list."
   ]
  },
  {
   "cell_type": "code",
   "execution_count": 61,
   "metadata": {},
   "outputs": [
    {
     "name": "stdout",
     "output_type": "stream",
     "text": [
      "Jan\n"
     ]
    }
   ],
   "source": [
    "print(months[0])"
   ]
  },
  {
   "cell_type": "code",
   "execution_count": 62,
   "metadata": {},
   "outputs": [
    {
     "name": "stdout",
     "output_type": "stream",
     "text": [
      "Dec\n"
     ]
    }
   ],
   "source": [
    "print(months[-1])"
   ]
  },
  {
   "cell_type": "markdown",
   "metadata": {},
   "source": [
    "Now let's try something new with this list. It's called *slicing*.\n",
    "\n",
    "In this instance, let's get the third through sixth items. Then get the sixth item onward.\n",
    "\n",
    "We start with the third item - and that's [2], because Python begins indexing at 0. But a key point about slicing: you want to go one index number beyond the index number you want to get.\n"
   ]
  },
  {
   "cell_type": "code",
   "execution_count": 63,
   "metadata": {},
   "outputs": [
    {
     "name": "stdout",
     "output_type": "stream",
     "text": [
      "['Mar', 'Apr', 'May', 'Jun']\n",
      "['Jun', 'Jul', 'Aug', 'Sep', 'Oct', 'Nov', 'Dec']\n"
     ]
    }
   ],
   "source": [
    "print(months[2:6])\n",
    "print(months[5:])"
   ]
  },
  {
   "cell_type": "markdown",
   "metadata": {
    "collapsed": true
   },
   "source": [
    "Now let's print the multi_list."
   ]
  },
  {
   "cell_type": "code",
   "execution_count": 65,
   "metadata": {},
   "outputs": [
    {
     "name": "stdout",
     "output_type": "stream",
     "text": [
      "[['apricot', 'peach', 'avocado'], ['Honda', 'Ford', 'Toyota'], [11, 23, 31]]\n"
     ]
    }
   ],
   "source": [
    "print(multi_list)"
   ]
  },
  {
   "cell_type": "markdown",
   "metadata": {},
   "source": [
    "Now, print the second item in the last of the three lists."
   ]
  },
  {
   "cell_type": "code",
   "execution_count": 66,
   "metadata": {},
   "outputs": [
    {
     "name": "stdout",
     "output_type": "stream",
     "text": [
      "23\n"
     ]
    }
   ],
   "source": [
    "print(multi_list[-1][1])"
   ]
  },
  {
   "cell_type": "markdown",
   "metadata": {},
   "source": [
    "Let's also look at the dictionary called person_data in var.py. "
   ]
  },
  {
   "cell_type": "code",
   "execution_count": 67,
   "metadata": {},
   "outputs": [
    {
     "name": "stdout",
     "output_type": "stream",
     "text": [
      "{'first_name': 'Mabel', 'last_name': 'Smith', 'middle': 'Q', 'city': 'Phoenix'}\n"
     ]
    }
   ],
   "source": [
    "print(person_data)"
   ]
  },
  {
   "cell_type": "markdown",
   "metadata": {},
   "source": [
    "Now print the first name of the person."
   ]
  },
  {
   "cell_type": "code",
   "execution_count": 70,
   "metadata": {},
   "outputs": [
    {
     "name": "stdout",
     "output_type": "stream",
     "text": [
      "Mabel\n"
     ]
    }
   ],
   "source": [
    "print(person_data['first_name'])"
   ]
  },
  {
   "cell_type": "markdown",
   "metadata": {},
   "source": [
    "Let's add the state of Arizona to our person_data."
   ]
  },
  {
   "cell_type": "code",
   "execution_count": 71,
   "metadata": {},
   "outputs": [
    {
     "name": "stdout",
     "output_type": "stream",
     "text": [
      "{'first_name': 'Mabel', 'last_name': 'Smith', 'middle': 'Q', 'city': 'Phoenix', 'state': 'Arizona'}\n"
     ]
    }
   ],
   "source": [
    "person_data['state'] = 'Arizona'\n",
    "print(person_data)"
   ]
  },
  {
   "cell_type": "markdown",
   "metadata": {},
   "source": [
    "You might take a quick look at var.py in a text editor/on github. Not that the addition of the state doesn't show up. Instead, it loads the new variable into memory, but not into the original file.\n",
    "\n",
    "You could even change the city in person_data to Scottsdale. Again, it's stored in memory going forward, but not in your original variable file.\n"
   ]
  },
  {
   "cell_type": "code",
   "execution_count": 72,
   "metadata": {},
   "outputs": [
    {
     "name": "stdout",
     "output_type": "stream",
     "text": [
      "{'first_name': 'Mabel', 'last_name': 'Smith', 'middle': 'Q', 'city': 'Scottsdale', 'state': 'Arizona'}\n"
     ]
    }
   ],
   "source": [
    "person_data['city'] = 'Scottsdale'\n",
    "print(person_data)"
   ]
  },
  {
   "cell_type": "markdown",
   "metadata": {},
   "source": [
    "### Loops and conditions\n",
    "\n",
    "We control what we're getting from files, URLs or other code by using \"for\" loops or \"if/else\" conditional statements.\n",
    "\n",
    "#### 'For' loops\n",
    "\n",
    "For (heh) instance, instead of using individual print statements (tedious, especially if you misspell pring, i mean, print, all the time), you can use a loop to call each item in the list.\n",
    "\n",
    "Here's the thinking behind a for loop in what's called pseudocode. This is a good way to draft out what you're trying to do with your code::\n",
    "\n",
    "    for each item in the list:\n",
    "        do something\n",
    "        maybe another thing\n",
    "        maybe more stuff even\n",
    "        \n",
    "Also, check out the indentation there - in Python those four spaces (not tabs!) are important to make your code run. Still indent errors are common. Lots of text editors auto indent your code properly once you've named your file something like xxx.py\n",
    "\n",
    "So, a for loop! Let's try it with our months list.\n",
    "\n",
    "\n"
   ]
  },
  {
   "cell_type": "code",
   "execution_count": 74,
   "metadata": {},
   "outputs": [
    {
     "name": "stdout",
     "output_type": "stream",
     "text": [
      "Jan\n",
      "Feb\n",
      "Mar\n",
      "Apr\n",
      "May\n",
      "Jun\n",
      "Jul\n",
      "Aug\n",
      "Sep\n",
      "Oct\n",
      "Nov\n",
      "Dec\n"
     ]
    }
   ],
   "source": [
    "for month in (months):\n",
    "    print(month)"
   ]
  },
  {
   "cell_type": "markdown",
   "metadata": {},
   "source": [
    "Now print a list of keys in the person_data dictionary."
   ]
  },
  {
   "cell_type": "code",
   "execution_count": 75,
   "metadata": {},
   "outputs": [
    {
     "name": "stdout",
     "output_type": "stream",
     "text": [
      "first_name\n",
      "last_name\n",
      "middle\n",
      "city\n",
      "state\n"
     ]
    }
   ],
   "source": [
    "for key in (person_data):\n",
    "    print(key)"
   ]
  },
  {
   "cell_type": "markdown",
   "metadata": {},
   "source": [
    "How about a loop that prints sentences of they key and the value in person_data? Remember white space, addition, when you need quote marks."
   ]
  },
  {
   "cell_type": "code",
   "execution_count": 78,
   "metadata": {},
   "outputs": [
    {
     "name": "stdout",
     "output_type": "stream",
     "text": [
      "The key is first_name and the value is Mabel.\n",
      "The key is last_name and the value is Smith.\n",
      "The key is middle and the value is Q.\n",
      "The key is city and the value is Scottsdale.\n",
      "The key is state and the value is Arizona.\n"
     ]
    }
   ],
   "source": [
    "for key in (person_data):\n",
    "    print('The key is ' + key + ' and the value is ' + person_data[key] + '.')"
   ]
  },
  {
   "cell_type": "markdown",
   "metadata": {},
   "source": [
    "A more complex loop would print how many items are in each sublist of multi_list, then list each item.\n",
    "\n",
    "That's three things:\n",
    "\n",
    "1. Print a statement that says: This list has x items:\n",
    "2. Print each item in the list\n",
    "3. Inserts a return character (\\r) (note that backslash, not forward) before the next list\n",
    "\n",
    "Here's how."
   ]
  },
  {
   "cell_type": "code",
   "execution_count": 80,
   "metadata": {},
   "outputs": [
    {
     "name": "stdout",
     "output_type": "stream",
     "text": [
      "The list has 3 items:\n",
      "apricot\n",
      "peach\n",
      "avocado\n",
      "\r\n",
      "The list has 3 items:\n",
      "Honda\n",
      "Ford\n",
      "Toyota\n",
      "\r\n",
      "The list has 3 items:\n",
      "11\n",
      "23\n",
      "31\n",
      "\r\n"
     ]
    }
   ],
   "source": [
    "for sublist in (multi_list):\n",
    "    print('The list has ' + str(len(multi_list)) + ' items:')\n",
    "    for item in sublist:\n",
    "        print(item)\n",
    "    print('\\r')"
   ]
  },
  {
   "cell_type": "markdown",
   "metadata": {},
   "source": [
    "#### If/else statements\n",
    "\n",
    "Ever use [If This Then That](https://ifttt.com/) to set an automatic feed from, say Instagram to Twitter? \n",
    "\n",
    "If/else is the more robust (and often complex) Python version of IFTTT. \n",
    "\n",
    "Based on your statement, Python performs a test of the conditions you specify to determine if a logical test is true and then moves on accordingly. Sort of like a flow chart. Not like flow charts with only one answer.\n",
    "\n",
    "Some pseudocode:\n",
    "\n",
    "    if a logical test is true:\n",
    "        do this\n",
    "        maybe do another this or three\n",
    "    else:\n",
    "        do that\n",
    "\n",
    "If there are more than two options (beyond simply true/false) there's always elif (not elf!):\n",
    "\n",
    "    if x is true:\n",
    "        do this\n",
    "    elif something else:\n",
    "        do that\n",
    "    elif this third thing:\n",
    "        do a different this or that\n",
    "    else:\n",
    "        if none of the above are true, this is the ultimate option\n",
    "        \n",
    "So, a gazillion lines ago, we had this variable called some_num. Let's figure out if it's equal to 21. Or not. (Don't forget that Python convention for equals ==)\n",
    "    \n"
   ]
  },
  {
   "cell_type": "code",
   "execution_count": 81,
   "metadata": {},
   "outputs": [
    {
     "name": "stdout",
     "output_type": "stream",
     "text": [
      "Nope, not 21 anymore.\n"
     ]
    }
   ],
   "source": [
    "if some_num == 21:\n",
    "    print('Yes! 21!')\n",
    "else:\n",
    "    print('Nope, not 21 anymore.')"
   ]
  },
  {
   "cell_type": "markdown",
   "metadata": {},
   "source": [
    "### Put the fun in a function!\n",
    "\n",
    "OK, really, we've already made some functions with built-in methods and data-type stuff.\n",
    "\n",
    "But the strength of Python is writing your own functions that combine elements we've been working on.\n",
    "\n",
    "The idea is that we comparmentalize or condense our code to avoid repetition. It can be difficult. And will perfection ever be achieved? Maybe, maybe not.\n",
    "\n",
    "First, let's define a function that has one job: it prints the phrase \"Cool beans!\""
   ]
  },
  {
   "cell_type": "code",
   "execution_count": 82,
   "metadata": {
    "collapsed": true
   },
   "outputs": [],
   "source": [
    "def beans():\n",
    "    print('Cool beans!')"
   ]
  },
  {
   "cell_type": "markdown",
   "metadata": {},
   "source": [
    "Now run the print_beans function and contemplate why we didn't just print('Cool beans!') in the first place. Also note how this differs from the print() function."
   ]
  },
  {
   "cell_type": "code",
   "execution_count": 84,
   "metadata": {},
   "outputs": [
    {
     "name": "stdout",
     "output_type": "stream",
     "text": [
      "Cool beans!\n"
     ]
    }
   ],
   "source": [
    "beans()"
   ]
  },
  {
   "cell_type": "markdown",
   "metadata": {},
   "source": [
    "Let's try a math function, more useful, that let's us identify a number, then multiply that number by itself."
   ]
  },
  {
   "cell_type": "code",
   "execution_count": 86,
   "metadata": {},
   "outputs": [],
   "source": [
    "def square(number):\n",
    "    print(number * number)"
   ]
  },
  {
   "cell_type": "markdown",
   "metadata": {},
   "source": [
    "Now let's find the square of a number, like maybe 11 - or choose your own number adventure."
   ]
  },
  {
   "cell_type": "code",
   "execution_count": 87,
   "metadata": {},
   "outputs": [
    {
     "name": "stdout",
     "output_type": "stream",
     "text": [
      "121\n"
     ]
    }
   ],
   "source": [
    "square(11)"
   ]
  },
  {
   "cell_type": "markdown",
   "metadata": {},
   "source": [
    "Another thing you can do: You can put it into another variable and print it."
   ]
  },
  {
   "cell_type": "code",
   "execution_count": 88,
   "metadata": {},
   "outputs": [
    {
     "name": "stdout",
     "output_type": "stream",
     "text": [
      "1936\n",
      "None\n"
     ]
    }
   ],
   "source": [
    "square_result = square(44)\n",
    "print(square_result)"
   ]
  },
  {
   "cell_type": "markdown",
   "metadata": {},
   "source": [
    "Is there a square of apple?"
   ]
  },
  {
   "cell_type": "code",
   "execution_count": 89,
   "metadata": {},
   "outputs": [
    {
     "ename": "TypeError",
     "evalue": "can't multiply sequence by non-int of type 'str'",
     "output_type": "error",
     "traceback": [
      "\u001b[0;31m---------------------------------------------------------------------------\u001b[0m",
      "\u001b[0;31mTypeError\u001b[0m                                 Traceback (most recent call last)",
      "\u001b[0;32m<ipython-input-89-79cdf3502773>\u001b[0m in \u001b[0;36m<module>\u001b[0;34m()\u001b[0m\n\u001b[0;32m----> 1\u001b[0;31m \u001b[0msquare\u001b[0m\u001b[0;34m(\u001b[0m\u001b[0;34m'apple'\u001b[0m\u001b[0;34m)\u001b[0m\u001b[0;34m\u001b[0m\u001b[0m\n\u001b[0m",
      "\u001b[0;32m<ipython-input-86-95e69e9609cc>\u001b[0m in \u001b[0;36msquare\u001b[0;34m(number)\u001b[0m\n\u001b[1;32m      1\u001b[0m \u001b[0;32mdef\u001b[0m \u001b[0msquare\u001b[0m\u001b[0;34m(\u001b[0m\u001b[0mnumber\u001b[0m\u001b[0;34m)\u001b[0m\u001b[0;34m:\u001b[0m\u001b[0;34m\u001b[0m\u001b[0m\n\u001b[0;32m----> 2\u001b[0;31m     \u001b[0mprint\u001b[0m\u001b[0;34m(\u001b[0m\u001b[0mnumber\u001b[0m \u001b[0;34m*\u001b[0m \u001b[0mnumber\u001b[0m\u001b[0;34m)\u001b[0m\u001b[0;34m\u001b[0m\u001b[0m\n\u001b[0m",
      "\u001b[0;31mTypeError\u001b[0m: can't multiply sequence by non-int of type 'str'"
     ]
    }
   ],
   "source": [
    "square('apple')"
   ]
  },
  {
   "cell_type": "markdown",
   "metadata": {},
   "source": [
    "So, you can multiply a string. But it isn't exponential.\n",
    "\n",
    "And that multi_list loop we use earlier? It could be a function, which might be more functional."
   ]
  },
  {
   "cell_type": "code",
   "execution_count": 91,
   "metadata": {},
   "outputs": [],
   "source": [
    "def list_sum(list):\n",
    "    for sublist in (multi_list):\n",
    "        print('The list has ' + str(len(multi_list)) + ' items:')\n",
    "        for item in sublist:\n",
    "            print(item)\n",
    "        print('\\r')\n",
    "    "
   ]
  },
  {
   "cell_type": "markdown",
   "metadata": {},
   "source": [
    "Try this function on multi_list."
   ]
  },
  {
   "cell_type": "code",
   "execution_count": 92,
   "metadata": {},
   "outputs": [
    {
     "name": "stdout",
     "output_type": "stream",
     "text": [
      "The list has 3 items:\n",
      "apricot\n",
      "peach\n",
      "avocado\n",
      "\r\n",
      "The list has 3 items:\n",
      "Honda\n",
      "Ford\n",
      "Toyota\n",
      "\r\n",
      "The list has 3 items:\n",
      "11\n",
      "23\n",
      "31\n",
      "\r\n"
     ]
    }
   ],
   "source": [
    "list_sum(multi_list)"
   ]
  },
  {
   "cell_type": "markdown",
   "metadata": {},
   "source": [
    "Add the months list to multi_list and call the list_sum function again."
   ]
  },
  {
   "cell_type": "code",
   "execution_count": 93,
   "metadata": {},
   "outputs": [
    {
     "name": "stdout",
     "output_type": "stream",
     "text": [
      "The list has 4 items:\n",
      "apricot\n",
      "peach\n",
      "avocado\n",
      "\r\n",
      "The list has 4 items:\n",
      "Honda\n",
      "Ford\n",
      "Toyota\n",
      "\r\n",
      "The list has 4 items:\n",
      "11\n",
      "23\n",
      "31\n",
      "\r\n",
      "The list has 4 items:\n",
      "Jan\n",
      "Feb\n",
      "Mar\n",
      "Apr\n",
      "May\n",
      "Jun\n",
      "Jul\n",
      "Aug\n",
      "Sep\n",
      "Oct\n",
      "Nov\n",
      "Dec\n",
      "\r\n"
     ]
    }
   ],
   "source": [
    "multi_list.append(months)\n",
    "list_sum(multi_list)"
   ]
  },
  {
   "cell_type": "markdown",
   "metadata": {},
   "source": [
    "### Putting python together\n",
    "\n",
    "What do we really want to do? Most often get files with data, analyze files of data, etc.\n",
    "\n",
    "So let's put some variables, ... together.\n",
    "\n",
    "Ideally, our files are csv. There's a file named lobby.csv here, so let's open, read and look at it using Python's csv library. And let's document what we're doing as we go.\n",
    "\n",
    "One key step is to import the python library that handles such files.\n",
    "\n"
   ]
  },
  {
   "cell_type": "code",
   "execution_count": 95,
   "metadata": {},
   "outputs": [
    {
     "name": "stdout",
     "output_type": "stream",
     "text": [
      "['Registration Year', 'Lobbyist Name', 'Expenditures', 'Contributions']\n",
      "['1113', 'Abbey Clayton', '', '']\n",
      "['1548', 'Abraham Richard', '', '']\n",
      "['22', 'Abram Daniel', '', '']\n",
      "['1575', 'Acevedo Mayra', '', '']\n",
      "['26', 'Adondakis Sandra', '8071.0000', '']\n",
      "['1581', 'Agopian Nicholas', '903.7600', '']\n",
      "['29', 'Alarid Vanessa', '12284.8700', '4500.0000']\n",
      "['1626', 'Albright Jeffrey ', '', '']\n",
      "['689', 'Alexander Lee Ann', '', '']\n",
      "['1031', 'Alire Donald', '', '']\n",
      "['35', 'Allen Steven', '', '']\n",
      "['1628', 'Allison  Mark ', '', '']\n",
      "['1306', 'Allison Lesli ', '', '']\n",
      "['1563', 'Ames Eric', '', '']\n",
      "['37', 'Anaya Steven', '74.9700', '1000.0000']\n",
      "['41', 'Anderson John', '4019.6300', '']\n",
      "['46', 'Anderson Josh', '', '']\n",
      "['1212', 'Angulo Javier ', '', '']\n",
      "['688', 'Apodaca  Jerry ', '', '']\n",
      "['937', 'Apodaca Robert', '720.0400', '']\n",
      "['1346', 'Aranda Melanie ', '', '']\n",
      "['1539', 'Archuleta Contessa', '', '']\n",
      "['1457', 'Archuleta Larry', '', '']\n",
      "['1054', 'Arencon Diego', '100.0000', '']\n",
      "['1568', 'Armstrong Erin', '', '2500.0000']\n",
      "['65', 'Arnold Michelle', '253.4200', '']\n",
      "['1589', 'Ashley Corey', '', '']\n",
      "['775', 'Avitia Miguel', '', '']\n",
      "['1558', 'Baca  Sarah ', '', '']\n",
      "['1644', 'Baca Marcus', '', '']\n",
      "['74', 'Baca Max', '210.0000', '']\n",
      "['1522', 'Baca Rebecca', '', '']\n",
      "['79', 'Baca Ruben', '742.1000', '']\n",
      "['1656', 'Baca Terri Nikole', '', '']\n",
      "['83', 'Badal Adriana', '', '']\n",
      "['785', 'Badal John', '514.6200', '']\n",
      "['1507', 'Bailey Richard', '', '']\n",
      "['1348', 'Baillio Colin', '', '']\n",
      "['948', 'Baker Russell', '50.0000', '']\n",
      "['88', 'Baldwin William', '', '']\n",
      "['90', 'Balok Aron', '164.5100', '']\n",
      "['1474', 'Balzano Cristoforo', '1343.7400', '']\n",
      "['92', 'Barberousse Bob', '1953.5600', '']\n",
      "['1029', 'Barboa Adriann', '', '']\n",
      "['1128', 'Barden David', '', '']\n",
      "['100', 'Barefoot Linda', '', '']\n",
      "['1419', 'Barillas Marty', '', '']\n",
      "['102', 'Barnett Mickey', '5939.9800', '1000.0000']\n",
      "['107', 'Barton Yvonne', '', '']\n",
      "['1119', 'Baur Bennett', '', '']\n",
      "['1620', 'Beccera Ugalde Marilu', '', '']\n",
      "['114', 'Bell Stephen', '', '']\n",
      "['116', 'Bellino Sandra', '', '']\n",
      "['1042', 'Benavides David', '', '']\n",
      "['1035', 'Bent John Gregory', '', '']\n",
      "['1333', 'Berg Sonya ', '', '']\n",
      "['124', 'Berlier James', '', '']\n",
      "['131', 'Bigelow Andrea ', '', '']\n",
      "['1491', 'Biles Christopher ', '', '']\n",
      "['1530', 'Bird Bryan', '', '']\n",
      "['154', 'Blackwell Pamela', '', '']\n",
      "['987', 'Blalock Joyce ', '', '']\n",
      "['862', 'Block Jonathan ', '', '']\n",
      "['1130', 'Block Patrick', '', '']\n",
      "['1454', 'Boal George ', '', '']\n",
      "['1645', 'Bodwell Eric', '', '']\n",
      "['157', 'Bonahoom Barbara', '', '']\n",
      "['158', 'Bonal Maurice', '', '200.0000']\n",
      "['160', 'Bonar Laura', '', '']\n",
      "['163', 'Bowen Michael', '16224.8500', '']\n",
      "['165', 'Bowyer Charles', '', '']\n",
      "['166', 'Bradley Walter ', '1311.8500', '']\n",
      "['1280', 'Brady  Margaret ', '', '']\n",
      "['1281', 'Brady Michael', '', '']\n",
      "['986', 'Bravo Eleanor ', '', '']\n",
      "['170', 'Brewster James', '', '']\n",
      "['1597', 'Bristow Steven ', '', '']\n",
      "['174', 'Brooks George', '27500.0000', '']\n",
      "['1565', 'Brown Joan', '', '']\n",
      "['1653', 'Brown Lance', '', '']\n",
      "['850', 'Brown-Yazzie  Michelle ', '', '']\n",
      "['1430', 'Brunder Carrie Robin', '61.5600', '']\n",
      "['684', 'Buel Jeff ', '', '']\n",
      "['182', 'Bullington James', '3844.2200', '1000.0000']\n",
      "['195', 'Bundy Carter', '', '']\n",
      "['1426', 'Bunker Mary Jessa', '7201.2500', '']\n",
      "['1542', 'Burk  Jewell ', '', '']\n",
      "['202', 'Bush Nathan ', '', '']\n",
      "['1140', 'Cadena Denicia', '784.7200', '']\n",
      "['208', 'Calef Barbara', '', '']\n",
      "['1467', 'Callahan Robert', '', '']\n",
      "['1627', 'Calman Judith', '', '']\n",
      "['1603', 'Campos Jose', '', '']\n",
      "['1580', 'Cardenas Theresa', '6618.8000', '']\n",
      "['1532', 'Carey Madeleine', '', '']\n",
      "['1525', 'Carr Linda', '', '']\n",
      "['1414', 'Carreon Lorenzo', '', '']\n",
      "['216', 'Carson Joel', '', '']\n",
      "['898', 'Castillo Liliana', '174.1100', '']\n",
      "['221', \"C'deBaca Ernest\", '', '']\n",
      "['1523', 'Chaffin Anne', '', '']\n",
      "['1398', 'Chaffin Chris', '', '']\n",
      "['1591', 'Chappell Bill ', '', '']\n",
      "['1255', 'Chase  Claire ', '', '']\n",
      "['1116', 'Chavez  Katherine ', '', '']\n",
      "['1259', 'Chavez  Rikki-Lee', '', '']\n",
      "['1446', 'Chavez Alicia', '', '']\n",
      "['1537', 'Chavez Dennis', '', '']\n",
      "['228', 'Chavez Morris', '', '']\n",
      "['1111', 'Chavez Santiago', '', '']\n",
      "['1121', 'Chavez-Cook Kim ', '', '']\n",
      "['1269', 'Cheney Justin ', '', '']\n",
      "['250', 'Chino Conroy', '', '']\n",
      "['913', 'Christensen Marc', '', '']\n",
      "['731', 'Christopher John', '10572.3900', '3000.0000']\n",
      "['252', 'Cisneros Gabriel', '', '']\n",
      "['1087', 'Clark Kim', '', '']\n",
      "['1385', 'Coffee Sherri', '', '']\n",
      "['1574', 'Coffey Sarah', '450.0000', '5.0000']\n",
      "['1605', 'Colas Ray ', '', '']\n",
      "['264', 'Cole Terri', '135.0200', '']\n",
      "['1303', 'Condit  Brian ', '', '']\n",
      "['1602', 'Consier Kirby', '', '']\n",
      "['271', 'Conway Ann', '', '']\n",
      "['273', 'Cooper Jackie', '', '']\n",
      "['274', 'Coppler Frank ', '', '']\n",
      "['1404', 'Coppler JoAnne', '', '']\n",
      "['1410', 'Cordova Ryan', '', '']\n",
      "['1623', 'Correll Shawn ', '', '']\n",
      "['276', 'Cowan Caren', '726.5300', '']\n",
      "['767', 'Cravens Kent', '', '']\n",
      "['278', 'Crespin Steve', '', '']\n",
      "['1493', 'Crichton Dea ', '', '']\n",
      "['1601', 'Cronn Chris ', '', '']\n",
      "['283', 'Daniel John ', '', '225.0000']\n",
      "['682', \"D'Antonio  Michael\", '16561.9700', '']\n",
      "['287', 'Davis Joel', '', '']\n",
      "['1246', 'Davis Timothy', '', '5.0000']\n",
      "['1614', 'de Leon Susan', '', '']\n",
      "['292', 'de Schweinitz Clark', '', '']\n",
      "['1218', 'Deaguero Darrell', '', '']\n",
      "['1550', 'Deats  Sarah ', '', '']\n",
      "['1595', 'DeBenfdittis Peter ', '', '']\n",
      "['1579', 'Decker Jessica ', '', '']\n",
      "['1288', 'Demento  Marcia ', '', '']\n",
      "['1517', 'DeVore-Parks Carolyne', '', '']\n",
      "['1654', 'Deweese Lisa', '', '']\n",
      "['1411', 'Dickerson Joan', '', '']\n",
      "['1549', 'Dickson Virginia ', '', '']\n",
      "['692', 'Digregorio  Jennie ', '', '']\n",
      "['1282', 'Dixon Rose', '', '']\n",
      "['1310', 'Dodge Esperanza ', '', '']\n",
      "['1599', 'Dodge Timothy', '', '']\n",
      "['308', 'Dolce Dauneen ', '', '']\n",
      "['310', 'Domenici Pete', '', '']\n",
      "['1096', 'Donaldson Robert ', '214.0900', '']\n",
      "['313', 'Drake Tom ', '1020.2400', '']\n",
      "['768', 'Drangmeister Walter', '', '']\n",
      "['694', 'Dubose Christensen  Jacqueline', '', '']\n",
      "['1129', 'Dudley Chavez Claire', '', '']\n",
      "['1482', 'Dunaway Alan', '', '']\n",
      "['955', 'Dunn Lawrence', '', '']\n",
      "['315', 'Duran Adela', '1028.7100', '']\n",
      "['316', 'Duran Mark', '7647.9500', '']\n",
      "['1407', 'Duran Rose', '', '']\n",
      "['1471', 'Durham Kelly', '', '']\n",
      "['319', 'Dye Jeff', '', '']\n",
      "['1220', 'Dyrcz John ', '', '']\n",
      "['320', 'Earnest Joseph', '', '']\n",
      "['1531', 'Eaton Laura', '', '']\n",
      "['1264', 'Enjady  Godfrey ', '', '']\n",
      "['1562', 'Eric Ames', '', '']\n",
      "['1488', 'Erwin Donna', '', '']\n",
      "['337', 'Esparsen Joy', '', '']\n",
      "['1311', 'Esparza Tannia ', '', '']\n",
      "['339', 'Espinoza Jason', '6183.7000', '']\n",
      "['1178', 'Estrada Abuko', '', '55.0000']\n",
      "['1196', 'Evans Andrea', '', '']\n",
      "['344', 'Evans Gail', '', '']\n",
      "['1566', 'Fadem Barry', '', '']\n",
      "['1646', 'Fauldauer Arthur', '', '']\n",
      "['1625', 'Favela Martha', '', '']\n",
      "['355', 'Feldblum Mary', '', '']\n",
      "['359', 'Ferrell Charles', '622.0100', '']\n",
      "['700', 'Fiebelkorn Tammy ', '', '']\n",
      "['363', 'Fisher Kristina', '', '50.0000']\n",
      "['366', 'Fleisher Mark ', '2529.1600', '345.0000']\n",
      "['1112', 'Fletcher Shelby', '604.6200', '']\n",
      "['369', 'Fogel Stephen', '', '']\n",
      "['1142', 'Foster Demis', '', '']\n",
      "['372', 'Foster Karin', '3267.8800', '']\n",
      "['1098', 'Fox  Bret', '', '']\n",
      "['1393', 'Fox-Young Justine C.', '', '']\n",
      "['379', 'Freeman Katherine', '', '']\n",
      "['381', 'Fritz Leslie', '', '']\n",
      "['383', 'Fuentes Jerry', '', '']\n",
      "['384', 'Fulginiti William ', '2849.3500', '']\n",
      "['1617', 'Gallegos Donald', '', '']\n",
      "['1353', 'Garcia  Tomas', '', '']\n",
      "['1641', 'Garcia Anna Marie', '105.7400', '']\n",
      "['1613', 'Garcia Joaquin', '', '']\n",
      "['1511', 'Garcia John', '', '']\n",
      "['1497', 'Garcia Marlene ', '', '']\n",
      "['1594', 'Garcia Paula', '', '']\n",
      "['1247', 'Garcia Rosario (Chayo)', '', '']\n",
      "['395', 'Garza Leonel', '', '']\n",
      "['396', 'Gaspers Mark ', '', '']\n",
      "['1222', 'Gerholt Gabrielle Anne', '', '']\n",
      "['1570', 'Germain Naomie', '', '']\n",
      "['397', 'Getz Clarice', '', '']\n",
      "['1556', 'Giblin Judy', '', '']\n",
      "['1592', 'Gibson Cassie', '', '']\n",
      "['1513', 'Gillespie Patrick', '', '']\n",
      "['399', 'Gilliland-Lopez Ronda', '', '']\n",
      "['1399', 'Giron Gary', '', '']\n",
      "['424', 'Glenn Joie', '', '']\n",
      "['426', 'Goff H. ', '', '']\n",
      "['429', 'Gomez Jose', '', '']\n",
      "['1600', 'Gonzales Danica', '', '']\n",
      "['1553', 'Gonzales Eva', '', '']\n",
      "['431', 'Gonzales Marco', '1302.0000', '11000.0000']\n",
      "['435', 'Gonzales Ricardo ', '2400.0000', '']\n",
      "['1629', 'Gonzalez Gema', '', '']\n",
      "['1622', 'Gonzalez Mendoza Estefany ', '', '']\n",
      "['436', 'Goodmacher Charles', '', '']\n",
      "['437', 'Goodrich Robert', '', '']\n",
      "['439', 'Gorenz Deborah', '', '']\n",
      "['459', 'Gould Leland', '1102.4700', '2500.0000']\n",
      "['701', 'Gould Peter ', '', '']\n",
      "['1528', 'Grahom Cameron', '', '']\n",
      "['1237', 'Gray William ', '', '']\n",
      "['461', 'Greene John ', '', '']\n",
      "['1535', 'Greer  C. Earl ', '', '']\n",
      "['463', 'Greer Mary', '', '']\n",
      "['464', 'Greer Stephen', '', '']\n",
      "['1606', 'Griego Eric', '', '']\n",
      "['1245', 'Griego Maria', '', '']\n",
      "['466', 'Griffith Sue', '789.8200', '']\n",
      "['474', 'Groenewold Keven ', '3614.0000', '']\n",
      "['480', 'Guay Richard', '', '']\n",
      "['481', 'Guillen Joe', '', '']\n",
      "['1551', 'Gunderson Jerrel ', '', '']\n",
      "['1619', 'Gurrola Garcia Abril', '', '']\n",
      "['1647', 'Gutierrez Frank', '', '']\n",
      "['1425', 'Gutierrez Julie', '121.9300', '']\n",
      "['1176', 'Hager Sovereign', '', '']\n",
      "['1637', 'Haidle Paul ', '', '']\n",
      "['1432', 'Halevi Susan', '', '']\n",
      "['489', 'Hall J.Scott', '', '']\n",
      "['1106', 'Hamsing Michael ', '', '']\n",
      "['1498', 'Hance Kent', '', '']\n",
      "['1529', 'Hanson Gabriel', '', '']\n",
      "['945', 'Harden Clinton', '386.8000', '']\n",
      "['877', 'Harrison Viki', '', '']\n",
      "['1616', 'Hartson Alison', '', '']\n",
      "['1636', 'Head Britney ', '', '']\n",
      "['1439', 'Hedderich Scott', '', '']\n",
      "['502', 'Hedrick Tara', '', '']\n",
      "['503', 'Hendry Jon', '', '']\n",
      "['509', 'Henrie Michelle', '', '']\n",
      "['771', 'Henry Randal', '', '']\n",
      "['774', 'Henry Vesta', '', '']\n",
      "['1610', 'Henshaw Ilene', '', '']\n",
      "['510', 'Henson Charles', '', '']\n",
      "['1350', 'Hernandez Michelle', '', '']\n",
      "['1382', 'Hildreth Troy ', '', '']\n",
      "['520', 'Hoffman Sarah', '1804.0000', '']\n",
      "['1546', 'Hoke John', '', '']\n",
      "['526', 'Holland Suzanne ', '', '']\n",
      "['544', 'Horan Lawrence ', '6782.6200', '']\n",
      "['558', 'Horan Thomas', '2009.1000', '']\n",
      "['583', 'Howell Dave', '', '']\n",
      "['1584', 'Howl Glen ', '', '']\n",
      "['1583', 'Howl Yvette ', '', '']\n",
      "['585', 'Huebner Brian ', '', '']\n",
      "['589', 'Hull II Arthur ', '9867.2000', '']\n",
      "['669', 'Husted Doris', '', '']\n",
      "['592', 'Hutchinson Howard', '', '']\n",
      "['593', 'Idsinga Beverly', '719.9800', '']\n",
      "['1504', 'Imholz Elizabeth ', '', '']\n",
      "['594', 'Indall Jon ', '', '']\n",
      "['705', 'Inman Debra ', '', '']\n",
      "['1585', 'Ivory Ken', '', '']\n",
      "['596', 'Jackson James ', '', '']\n",
      "['792', 'Jacobus  Kristine', '', '5500.0000']\n",
      "['600', 'Jantz Eric', '', '']\n",
      "['784', 'Jaramillo David', '1840.2100', '1000.0000']\n",
      "['914', 'Jaramillo Matthew', '5395.7200', '']\n",
      "['1275', 'Jennings  Timothy ', '', '']\n",
      "['602', 'Jennings Elisabeth ', '', '']\n",
      "['788', 'Jernigan Jane', '', '']\n",
      "['1480', 'Jimenez James', '', '']\n",
      "['941', 'Jimenez Mario ', '', '']\n",
      "['603', 'Johnson Annette ', '', '']\n",
      "['604', 'Johnson Christine', '', '']\n",
      "['1376', 'Johnson Jessica', '', '']\n",
      "['1102', 'Johnson Johnny', '', '']\n",
      "['1544', 'Johnson Robert', '115.4000', '']\n",
      "['1538', 'Johnston  Sacha ', '', '']\n",
      "['1442', 'Jones Cristal', '', '']\n",
      "['1145', 'Jones La Vanda', '2905.4200', '']\n",
      "['1427', 'Jones Vicki', '', '']\n",
      "['609', 'Jordan William J.', '', '']\n",
      "['1638', 'Jorge Edith ', '', '']\n",
      "['611', 'Juricich Harriet', '', '']\n",
      "['1343', 'Kamrath Kyle ', '', '']\n",
      "['1105', 'Kelley Casey', '', '']\n",
      "['1139', 'Kelley Krista', '', '']\n",
      "['615', 'Keyes Conrad', '', '']\n",
      "['1484', 'Killen Patrick', '1220.2800', '']\n",
      "['617', 'Kimball, III David ', '', '']\n",
      "['618', 'Kimble David ', '', '']\n",
      "['619', 'King Leslie', '', '']\n",
      "['620', 'King Nancy M.', '1392.3400', '']\n",
      "['622', 'Koob Julianna ', '4244.5800', '5500.0000']\n",
      "['623', 'Kopelman Steve', '141.6100', '']\n",
      "['1501', 'Kozemchak Stephanie', '', '']\n",
      "['1152', 'Krakowska Ewa', '', '']\n",
      "['1590', 'Kravitz Leean', '', '50.0000']\n",
      "['1611', 'Krueger John ', '', '']\n",
      "['1631', 'Krumpos Kalli', '', '']\n",
      "['1561', 'Kugler Carla', '', '']\n",
      "['627', 'Laca Gaspar', '1073.4900', '']\n",
      "['633', 'Larson Barbara ', '', '']\n",
      "['635', 'Laubacher Cynthia ', '', '']\n",
      "['890', 'Leach Carol ', '3293.1500', '']\n",
      "['935', 'Legant Kimberly', '', '']\n",
      "['1151', 'Leibowitz Jonathan', '', '']\n",
      "['1327', 'Leland  Robert ', '', '']\n",
      "['1635', 'Lewinger Ben', '', '']\n",
      "['892', 'Lewis  Jesse ', '', '']\n",
      "['1510', 'Lindsey Jason', '', '']\n",
      "['1374', 'Lingley Kristen', '', '2000.0000']\n",
      "['1184', 'Long  Noah', '', '']\n",
      "['1219', 'Long Ashley Nicole', '', '']\n",
      "['1520', 'Lopez  Daniel ', '927.4000', '']\n",
      "['1342', 'Lopez Claudio', '', '']\n",
      "['649', 'Lorimier Daniel', '', '']\n",
      "['1100', 'Lormand Christine', '', '']\n",
      "['651', 'Loubet Susan', '450.0000', '']\n",
      "['1231', 'Lucero Carlos ', '5125.7000', '']\n",
      "['1624', 'Lucero Steven', '', '']\n",
      "['1114', 'Lujan Edward', '', '']\n",
      "['1505', 'Lussenhop Barbara', '', '']\n",
      "['1639', 'Lute Michelle', '', '']\n",
      "['946', 'Ly Stephanie', '14256.0000', '']\n",
      "['658', 'Mac RAE Bruce', '', '']\n",
      "['1418', 'MacEachen Timothy', '', '']\n",
      "['657', 'Machen Meredith ', '', '']\n",
      "['1527', 'MacIver Lorie', '', '']\n",
      "['1503', 'Madden Patrick ', '', '']\n",
      "['661', 'Maestas-Traynor Debbie ', '1226.0000', '75.0000']\n",
      "['663', 'Mahooty Pamela ', '107.2900', '']\n",
      "['664', 'Mahr Edwin ', '1047.7900', '250.0000']\n",
      "['666', 'Makin Roger', '', '']\n",
      "['667', 'Mallery Peter', '3493.9200', '']\n",
      "['25', 'Manne Sireesha', '', '']\n",
      "['28', 'Manzano David', '', '']\n",
      "['1043', 'Marks  Robert', '', '']\n",
      "['31', 'Marquez Charlie', '5463.7100', '250.0000']\n",
      "['34', 'Marshall Glenn \\'Randy\"', '', '500.0000']\n",
      "['929', 'Martin Paul ', '', '']\n",
      "['1519', 'Martinez  Juan ', '', '']\n",
      "['1015', 'Martinez  Larry ', '', '']\n",
      "['1598', 'Martinez Elisa', '', '']\n",
      "['789', 'Martinez Eric ', '600.0000', '']\n",
      "['1573', 'Martinez Joe', '', '']\n",
      "['1379', 'Martinez Katherine', '10260.0000', '']\n",
      "['1215', 'Martinez Rick ', '', '']\n",
      "['1428', 'Martinez Severo', '', '']\n",
      "['47', 'Mason Richard', '', '']\n",
      "['1607', 'Mathews James', '', '']\n",
      "['50', 'Maxie Gregory', '', '']\n",
      "['1378', 'McAdams Bonnie ', '', '']\n",
      "['932', 'McCarthy Laura ', '', '']\n",
      "['1396', 'McClish Ralph', '', '']\n",
      "['1508', 'McCormack Daniel', '', '']\n",
      "['1577', 'McGiffert Elizabeth', '', '']\n",
      "['61', 'McGonagle Minda', '849.7200', '100.0000']\n",
      "['1502', 'Mcllroy Andrew', '', '']\n",
      "['566', 'McNeill Patricia', '', '']\n",
      "['64', 'Meiklejohn Douglas', '', '']\n",
      "['66', 'Melendres Arthur', '50.0000', '100.0000']\n",
      "['68', 'Menapace Joseph', '1460.0300', '']\n",
      "['1381', 'Meradith Stephen', '', '']\n",
      "['1003', 'Meyer Michael', '', '']\n",
      "['77', 'Michel Steve', '', '']\n",
      "['78', 'Milarch Jack', '', '']\n",
      "['1261', 'Miller  Brian ', '', '']\n",
      "['745', 'Milo Daniel M.', '', '']\n",
      "['1409', 'Minner Sam', '327.1800', '']\n",
      "['82', 'Minzner Richard ', '365.9600', '']\n",
      "['85', 'Mitchell Rhonda', '4000.7900', '']\n",
      "['87', 'Moellenberg Dalva', '286.6000', '']\n",
      "['1572', 'Molinar-Arvizo Karla', '', '']\n",
      "['1380', 'Monahan Joe ', '', '']\n",
      "['1630', 'Monfiletto Anthony', '', '']\n",
      "['94', 'Montoya Genaro', '', '']\n",
      "['1103', 'Montoya Johnny', '923.8200', '250.0000']\n",
      "['1406', 'Moon Catherine', '', '']\n",
      "['111', 'Moore Brent', '661.8800', '']\n",
      "['1204', 'Moore Brian', '2844.5300', '']\n",
      "['108', 'Moore Elise Sanders', '', '']\n",
      "['714', 'Moore Jacqueline ', '', '']\n",
      "['117', 'Moots James', '', '']\n",
      "['120', 'Moots Twila', '', '']\n",
      "['1400', 'Morillas Pedro', '12500.0000', '']\n",
      "['921', 'Morrison Nate', '', '']\n",
      "['129', 'Morrison Wanda', '', '']\n",
      "['715', 'Morrison William', '', '']\n",
      "['1576', 'Moss  Amanda ', '', '']\n",
      "['134', 'Muffoletto Baca Erin', '', '']\n",
      "['1422', 'Munoz Mathew', '', '']\n",
      "['1004', 'Murphy Victoria ', '', '325.0000']\n",
      "['137', 'Najjar Daniel ', '5146.8000', '1000.0000']\n",
      "['138', 'Najjar Jared', '', '']\n",
      "['139', 'Nanasi Mariel', '', '']\n",
      "['140', 'Nathan Frederic', '', '']\n",
      "['1455', 'Nelson Peggy', '', '']\n",
      "['1360', 'Nichols Brian ', '', '']\n",
      "['144', 'Ning Natasha', '13643.5100', '']\n",
      "['817', 'Noble Charles', '', '']\n",
      "['1099', 'Oakeley David ', '3000.0000', '1000.0000']\n",
      "['164', 'Ocheskey Fred ', '', '']\n",
      "['1088', \"O'Connell Brian\", '', '']\n",
      "['177', 'Olguin Michael', '', '']\n",
      "['1648', 'Olivas Francisco', '', '']\n",
      "['1615', 'Oliver Sandra', '', '']\n",
      "['180', 'Omey Samantha', '', '']\n",
      "['719', \"O'neill James\", '', '']\n",
      "['1545', 'Ortega Alberto', '', '']\n",
      "['846', 'Ortiz Darleen', '', '']\n",
      "['187', 'Ortiz Lilliemae', '', '']\n",
      "['1634', \"O'Ryan Anne \", '', '']\n",
      "['191', 'Otero Luke ', '2541.0600', '500.0000']\n",
      "['1655', 'Padilla Patrick', '', '']\n",
      "['1604', 'Pareja  Catalina Jelkh', '', '']\n",
      "['899', 'Park Alfred', '837.9200', '']\n",
      "['1441', 'Parker Kevin', '7384.2000', '']\n",
      "['1642', 'Parks Jennifer', '', '']\n",
      "['1150', 'Patterson Betty', '', '']\n",
      "['1555', 'Pedersen  Paul ', '', '']\n",
      "['233', 'Pegues Alice ', '', '']\n",
      "['1320', 'Pena-Truiillo Rosella', '', '']\n",
      "['722', 'Perry Stephen', '11.0000', '']\n",
      "['235', 'Philips Grace ', '113.7000', '']\n",
      "['1391', 'Phillips Brock', '', '']\n",
      "['211', 'Pinnes Ellen ', '', '']\n",
      "['1571', 'Poss Angela', '', '']\n",
      "['237', 'Propes Margaret', '', '']\n",
      "['238', 'Puelle Michael ', '1396.9000', '100.0000']\n",
      "['1586', 'Pyle Lance', '18.8000', '']\n",
      "['1359', 'Quintana  Patricia ', '', '']\n",
      "['805', 'Racher Brent ', '', '']\n",
      "['1526', 'Radolinski Steven ', '', '']\n",
      "['1621', 'Ramirez Christopher ', '6.9900', '']\n",
      "['1158', 'Ramo Jennifer ', '', '']\n",
      "['242', 'Rangel Steven', '50.0000', '']\n",
      "['248', 'Ray  Sam', '1154.3800', '100.0000']\n",
      "['1412', 'Ray Coletta Q.', '', '']\n",
      "['1609', 'Redman Leon ', '', '']\n",
      "['1415', 'Redmond John', '', '']\n",
      "['1472', 'Regens Brad', '', '']\n",
      "['255', 'Reich Robert', '', '']\n",
      "['256', 'Reilly-Mica Tara ', '44377.5000', '']\n",
      "['257', 'Rel Ricardo', '2292.4100', '']\n",
      "['723', 'Rice John (Mike)', '', '']\n",
      "['1053', 'Riley  Zachary ', '251.0000', '']\n",
      "['1451', 'Rindone D. Pauline', '', '']\n",
      "['1534', 'Rios Rudy', '', '']\n",
      "['1560', 'Rivera George', '', '']\n",
      "['871', 'Rivera James', '', '']\n",
      "['1547', 'Rivera Poqueen', '', '']\n",
      "['270', 'Rivera-Wiest Roxanne ', '', '']\n",
      "['1423', 'Roberts Sonya ', '', '']\n",
      "['286', 'Roddy David ', '2531.4900', '']\n",
      "['289', 'Rogers Patrick', '', '']\n",
      "['1578', 'Romero Ane', '', '155.0000']\n",
      "['1564', 'Romero Carlos', '', '']\n",
      "['1649', 'Romero David', '', '']\n",
      "['1049', 'Romero Kerrie C.', '150.0000', '']\n",
      "['1416', 'Romero Paul', '', '']\n",
      "['298', 'Romero Regina', '', '']\n",
      "['301', 'Romero Richard', '1137.7500', '']\n",
      "['1483', 'Romero Robert', '300.0000', '']\n",
      "['968', 'Root David', '', '']\n",
      "['318', 'Rosen Joshua ', '', '']\n",
      "['1608', 'Rosen William ', '', '']\n",
      "['1596', 'Rosenstiel Patrick ', '', '']\n",
      "['1250', 'Rougemont Edward', '', '']\n",
      "['1487', 'Rounds Ralph ', '389.9400', '']\n",
      "['327', 'Roy Pamela ', '60.0000', '']\n",
      "['1405', 'Russ II James', '', '1000.0000']\n",
      "['329', 'Rutherford Jeremy', '559.9400', '']\n",
      "['345', 'Ryan  Dina ', '', '']\n",
      "['1494', 'Ryan John', '127.0000', '']\n",
      "['347', 'Saavedra Marc', '170.0000', '']\n",
      "['1593', 'Saldana Erica ', '', '']\n",
      "['1133', 'Salim-Meza Valerie', '', '']\n",
      "['1541', 'Sanchez  Christopher', '', '']\n",
      "['343', 'Sanchez Allen ', '1072.9200', '']\n",
      "['1445', 'Sanchez Anna', '', '']\n",
      "['353', 'Sanchez Annadelle', '', '']\n",
      "['1460', 'Sanchez Ignacio', '', '']\n",
      "['807', 'Sanchez III Domingo', '', '']\n",
      "['1643', 'Sanchez Paul', '', '']\n",
      "['367', 'Sanchez Raymond ', '1010.5400', '']\n",
      "['1431', 'Sanchez Robert', '', '']\n",
      "['1230', 'Sandoval Edward', '', '']\n",
      "['1005', 'Sandoval Oriana R.', '', '5.0000']\n",
      "['373', 'Santillanes Joseph (Jay)', '', '']\n",
      "['302', 'Santillanes Matejka ', '9226.8500', '250.0000']\n",
      "['374', 'Scanland Scott', '25740.3100', '']\n",
      "['403', 'Schmidt David ', '', '']\n",
      "['1285', 'Schriver Richard', '', '']\n",
      "['1554', 'Schuster  Benjamin', '', '']\n",
      "['1251', 'Scott William ', '', '']\n",
      "['406', 'Sechovec  Linda ', '', '']\n",
      "['1033', 'Secrist Daniel James', '', '']\n",
      "['1072', 'Sedillo Pablo ', '', '']\n",
      "['407', 'Seligman Deborah ', '828.5700', '']\n",
      "['408', 'Sellers Thomas', '180.2400', '']\n",
      "['1023', 'Serna Patricio M.', '', '']\n",
      "['412', 'Setter Drew ', '5707.3400', '']\n",
      "['1476', 'Shank Brian', '24.9200', '']\n",
      "['1515', 'Shearer Bobbi', '', '']\n",
      "['1397', 'Shelton Benjamin', '432.0900', '']\n",
      "['1521', 'Shepherd Ursula', '', '']\n",
      "['418', 'Shoats Marlene (Marla)', '5764.4900', '1850.0000']\n",
      "['1559', 'Sianez Steve', '', '']\n",
      "['1459', 'Sidwell Tom', '', '']\n",
      "['419', 'Siegle Linda', '623.2700', '450.0000']\n",
      "['735', 'Silva  Daniel ', '', '']\n",
      "['423', 'Silva Domonic', '', '']\n",
      "['1650', 'Singdahlsen Paul', '', '']\n",
      "['1146', 'Siwik Allyson', '', '']\n",
      "['1468', 'Sleeter Marisa', '', '']\n",
      "['675', 'Smart Scott', '7693.0000', '']\n",
      "['440', 'Smith Allison', '1000.0000', '']\n",
      "['1157', 'Smith Caitlin ', '', '']\n",
      "['1612', 'Smith Elizabeth', '', '']\n",
      "['445', 'Smith Vicki ', '', '']\n",
      "['446', 'Smith William', '', '']\n",
      "['1514', 'Snider Tawna', '', '']\n",
      "['447', 'Snyder  H. Diane ', '', '']\n",
      "['983', 'Solem Joan ', '', '']\n",
      "['448', 'Sonntag Carla ', '', '']\n",
      "['449', 'Soto  Roy', '', '']\n",
      "['1633', 'Spaulding Joshua ', '', '']\n",
      "['1516', 'St. Cyr Peter ', '', '']\n",
      "['994', 'Stearley Diane', '', '']\n",
      "['1651', 'Stimmel Jay', '', '']\n",
      "['1388', 'Stoddard Abigail ', '', '']\n",
      "['462', 'Stranz Paul ', '', '']\n",
      "['465', 'Stratton Hal', '', '']\n",
      "['978', 'Strauss-Martin  Ashley ', '', '']\n",
      "['1473', 'Street Alexis', '5074.0200', '']\n",
      "['1540', 'Tabet-Cubero Edward ', '', '']\n",
      "['1543', 'Taylor Grant', '359.0000', '']\n",
      "['478', 'Teague Arthur', '', '']\n",
      "['1569', 'Tellez Sydney', '', '']\n",
      "['482', 'Templeman William', '346.6300', '']\n",
      "['1272', 'Thompson Jason', '1339.8000', '']\n",
      "['487', 'Thompson John', '', '']\n",
      "['493', 'Thompson Joseph M.', '4047.1400', '']\n",
      "['495', 'Thompson Matthew ', '', '']\n",
      "['504', 'Thompson R.E.', '', '']\n",
      "['813', 'Thompson, Jr.  John', '2356.3100', '']\n",
      "['906', 'Tibbetts Michelle ', '', '']\n",
      "['505', 'Tinker  Robert ', '', '']\n",
      "['674', 'Tonjes Gary', '', '']\n",
      "['1567', 'Torrez Michael', '', '']\n",
      "['508', 'Torza Deborah', '', '']\n",
      "['1512', 'Tracey-Hosa Louise', '', '']\n",
      "['1506', 'Traylor Kathleen ', '', '']\n",
      "['519', 'Traynor Randy ', '10296.1000', '2600.0000']\n",
      "['1377', 'Treat Bernarr', '3000.0000', '']\n",
      "['523', 'Trujillo Anthony (T.J.)', '', '']\n",
      "['528', 'Trujillo Antonio', '708.8800', '']\n",
      "['530', 'Trujillo Harold Joseph', '', '']\n",
      "['1533', 'Trujillo Jennifer', '', '']\n",
      "['1486', 'Trujillo Susan ', '', '']\n",
      "['533', 'Trujillo Ty', '', '']\n",
      "['534', 'Turbett Thom', '', '']\n",
      "['1524', 'Turnage Barbara', '', '']\n",
      "['535', 'Turner  James ', '', '']\n",
      "['1242', 'Turner Adrianne', '', '']\n",
      "['536', 'Ulibarri Katherine ', '', '']\n",
      "['537', 'Ulibarri Rick ', '', '']\n",
      "['1216', 'Umi Othiamba ', '', '']\n",
      "['538', 'Underwood H. John', '86.2000', '']\n",
      "['1066', 'Valdez Andres ', '', '']\n",
      "['1080', 'Valencia Sapien  Deanza', '', '']\n",
      "['1392', 'Vallejos Andrew M.', '', '']\n",
      "['539', 'Van Vleck Randall', '', '']\n",
      "['1536', 'Vaquera  Daniel ', '', '']\n",
      "['905', 'Varela Eugene', '40676.9300', '']\n",
      "['838', 'Varela Lopez Jose Javier', '', '']\n",
      "['1395', 'Velasco Cecilia', '', '']\n",
      "['845', 'Veneklasen Garrett Oberg', '', '']\n",
      "['546', 'Vigil  Edward', '', '']\n",
      "['1518', 'Vigil Danny ', '', '']\n",
      "['548', 'Virtue Richard ', '', '']\n",
      "['1444', 'Wagoner Elizabeth', '', '5.0000']\n",
      "['919', 'Waldenberg Adair', '', '']\n",
      "['551', 'Waldo Anton', '', '']\n",
      "['553', 'Waldrop Rebecca', '84.0000', '']\n",
      "['554', 'Walker  Jerry', '3511.7700', '']\n",
      "['1144', 'Walker Deborah', '', '']\n",
      "['824', 'Wallace Michael', '', '']\n",
      "['1552', 'Walter  Jeffrey ', '2213.5500', '']\n",
      "['1632', 'Ware Abigal', '', '']\n",
      "['1640', 'Warniment Gwendolyn', '', '']\n",
      "['834', 'Weahkee Laurie ', '', '']\n",
      "['833', 'Weahkee William', '', '']\n",
      "['557', 'Weaks  Dan ', '5764.4900', '1850.0000']\n",
      "['559', 'Weaks Jason', '4700.0000', '2500.0000']\n",
      "['560', 'Webber Barbara ', '', '']\n",
      "['1588', 'Webster James ', '', '']\n",
      "['1214', 'Welch Michael', '', '']\n",
      "['1500', 'Wells Sherri', '', '']\n",
      "['1557', 'Wenes Barbara ', '', '']\n",
      "['562', 'West Cynthia', '', '']\n",
      "['1657', 'Whatley Mike', '', '']\n",
      "['1618', 'Whitlock Karen', '', '']\n",
      "['567', 'Wight Carol', '', '']\n",
      "['1283', 'Wiley Gale', '', '']\n",
      "['839', 'Williams Judith', '', '']\n",
      "['924', 'Williams Julie ', '', '']\n",
      "['572', 'Wilson David ', '', '']\n",
      "['1402', 'Wilson Paul', '', '']\n",
      "['1443', 'Winkler Lauren', '', '']\n",
      "['1582', 'Wolf Douglas', '', '']\n",
      "['765', 'Wolfe  Jessica ', '', '']\n",
      "['577', 'Wood Marsha', '', '']\n",
      "['728', 'Woodhouse Jeff', '', '']\n",
      "['1499', 'Woodward Michael', '', '']\n",
      "['579', 'Yamada Sayuri ', '1527.9700', '']\n",
      "['581', 'Young Tasia ', '1391.8600', '']\n",
      "['582', 'Zamora  Rudy', '', '']\n",
      "['1289', 'Zanios James', '', '']\n",
      "['1263', 'Zemke  Isaiah', '', '']\n",
      "['584', 'Zendel Edwin', '', '']\n",
      "['1495', 'Zupan  Joseph', '', '']\n"
     ]
    }
   ],
   "source": [
    "import csv\n",
    "\n",
    "#create a variable that opens the file\n",
    "file = open('lobby.csv')\n",
    "\n",
    "#create a variable to read the file\n",
    "data = csv.reader(file)\n",
    "\n",
    "#loop through and print the contents of the file\n",
    "for row in data:\n",
    "    print(row)\n",
    "\n"
   ]
  },
  {
   "cell_type": "markdown",
   "metadata": {},
   "source": [
    "What would we call this bunch of lines with brackets and quotes in Pythonese?\n",
    "\n",
    "In a bit, these files and a solutions file will be in this github repo: (https://github.com/sandrafish/python101). There's also a list of resources for learning more."
   ]
  }
 ],
 "metadata": {
  "kernelspec": {
   "display_name": "Python 3",
   "language": "python",
   "name": "python3"
  },
  "language_info": {
   "codemirror_mode": {
    "name": "ipython",
    "version": 3
   },
   "file_extension": ".py",
   "mimetype": "text/x-python",
   "name": "python",
   "nbconvert_exporter": "python",
   "pygments_lexer": "ipython3",
   "version": "3.6.0"
  }
 },
 "nbformat": 4,
 "nbformat_minor": 1
}
